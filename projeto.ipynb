{
 "cells": [
  {
   "cell_type": "code",
   "execution_count": 1,
   "metadata": {},
   "outputs": [],
   "source": [
    "import numpy as np\n",
    "import matplotlib.pyplot as plt\n",
    "import sounddevice as sd\n",
    "from scipy.io import wavfile\n",
    "from PIL import Image\n",
    "import moviepy.editor as mpe"
   ]
  },
  {
   "cell_type": "code",
   "execution_count": null,
   "metadata": {},
   "outputs": [],
   "source": [
    "video = mpe.VideoFileClip(\"WIN_20241204_17_08_53_Pro.mp4\")\n",
    "video.ipython_display(width=480, maxduration=300)"
   ]
  },
  {
   "cell_type": "code",
   "execution_count": null,
   "metadata": {},
   "outputs": [],
   "source": [
    "def mirror(frame, t_res):\n",
    "    \n",
    "    frame = frame(t_res)\n",
    "\n",
    "    if int( t_res // 20 ) % 2 == 1:\n",
    "        return frame[::-1, :]\n",
    "    else:\n",
    "        return frame\n",
    "\n",
    "video_mirror= video.fl(mirror)\n",
    "\n",
    "video_mirror.ipython_display(width=480, maxduration=300)"
   ]
  },
  {
   "cell_type": "code",
   "execution_count": null,
   "metadata": {},
   "outputs": [],
   "source": [
    "def reduzir_sem_volume(frame, t_res):\n",
    "    \n",
    "    duracao = video.duration\n",
    "\n",
    "    fator_resp = np.ones_like(t_res)\n",
    "\n",
    "    maskara1 = t_res < 150\n",
    "    fator_resp[maskara1] = 1 - (t_res[maskara1] // 30) * 0.2\n",
    "\n",
    "    maskara2 = t_res > 150\n",
    "    fator_resp[maskara2] = np.maximum(0, 1 - (t_res[maskara2] - 150) / 10)\n",
    "    \n",
    "    return frame(t_res) * fator_resp[:, np.newaxis]\n",
    "    \n",
    "video_audio_gradativo = video.audio.set_fps(44100).fl(reduzir_sem_volume)\n",
    "\n",
    "# substituindo o audio original pelo modificado\n",
    "video_audio_novo_gradativo = video.set_audio(video_audio_gradativo)\n",
    "\n",
    "video_audio_novo_gradativo.write_videofile(\"video_resultante.mp4\", codec=\"libx264\", audio_codec=\"aac\")"
   ]
  },
  {
   "cell_type": "code",
   "execution_count": null,
   "metadata": {},
   "outputs": [],
   "source": [
    "video1_c_res = video.subclip(0,60)\n",
    "video2_c_res = video.subclip(60,80)\n",
    "video3_c_res = video.subclip(80)\n",
    "\n",
    "video_final_cortado_res = mpe.concatenate_videoclips([video1_c_res, video3_c_res, video2_c_res])\n",
    "video_final_cortado_res.ipython_display(width=480, maxduration=300)\n",
    "video_final_cortado_res.write_videofile(\"video_final.mp4\", codec=\"libx264\", audio_codec=\"aac\")"
   ]
  }
 ],
 "metadata": {
  "kernelspec": {
   "display_name": "Python 3",
   "language": "python",
   "name": "python3"
  },
  "language_info": {
   "codemirror_mode": {
    "name": "ipython",
    "version": 3
   },
   "file_extension": ".py",
   "mimetype": "text/x-python",
   "name": "python",
   "nbconvert_exporter": "python",
   "pygments_lexer": "ipython3",
   "version": "3.11.3"
  }
 },
 "nbformat": 4,
 "nbformat_minor": 2
}
